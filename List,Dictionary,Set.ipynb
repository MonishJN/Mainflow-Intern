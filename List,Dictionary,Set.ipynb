{
 "cells": [
  {
   "cell_type": "code",
   "execution_count": 7,
   "id": "c1946994-5955-40aa-ac25-86ec0a6f5e5f",
   "metadata": {},
   "outputs": [
    {
     "name": "stdout",
     "output_type": "stream",
     "text": [
      "[1, 2, 3, 'hello', True]\n",
      "The List after adding:  [1, 2, 3, 'hello', True, 2]\n",
      "The List after removing: [1, 'hello', True, 2]\n",
      "[1, 'hello', True, 2]\n",
      "The List after modifying: [3, 3, 3, 3, 2]\n"
     ]
    }
   ],
   "source": [
    "#LIST\n",
    "mylist=[1,2,3,\"hello\",True]\n",
    "print(mylist)\n",
    "\n",
    "#Adding\n",
    "mylist.append(2)\n",
    "print(\"The List after adding: \",mylist)\n",
    "\n",
    "#Removing\n",
    "mylist.remove(3)\n",
    "mylist.pop(1)\n",
    "print(\"The List after removing:\",mylist)\n",
    "\n",
    "#Modifying\n",
    "mylist[3]=2\n",
    "print(mylist)\n",
    "mylist[0:3]=[3,3,3,3]\n",
    "print(\"The List after modifying:\",mylist)"
   ]
  },
  {
   "cell_type": "code",
   "execution_count": 17,
   "id": "2da1bfb0-e6e9-4bb5-89da-eed27ad79ab9",
   "metadata": {},
   "outputs": [
    {
     "name": "stdout",
     "output_type": "stream",
     "text": [
      "{'Name': 'Rahul', 'Age': 22, 'City': 'Chennai'}\n",
      "The Dictionary after adding: {'Name': 'Rahul', 'Age': 22, 'City': 'Chennai', 'email': 'rahul123@gmail.com', 'Gender': 'Male'}\n",
      "The Dictionary after removing: {'Name': 'Rahul', 'email': 'rahul123@gmail.com', 'Gender': 'Male'}\n",
      "The Dictionary after modifying: {'Name': 'Priya', 'email': 'rahul123@gmail.com', 'Gender': 'Female'}\n"
     ]
    }
   ],
   "source": [
    "#DICTIONARY\n",
    "dict={\"Name\":\"Rahul\",\"Age\":22,\"City\":\"Chennai\"}\n",
    "print(dict)\n",
    "\n",
    "#Adding\n",
    "dict[\"email\"]=\"rahul123@gmail.com\"\n",
    "dict.update({\"Gender\":\"Male\"})\n",
    "print(\"The Dictionary after adding:\",dict)\n",
    "\n",
    "#Removing\n",
    "del dict[\"City\"]\n",
    "dict.pop(\"Age\")\n",
    "print(\"The Dictionary after removing:\",dict)\n",
    "\n",
    "#Modifying\n",
    "dict.update({\"Name\":\"Priya\"})\n",
    "dict[\"Gender\"]=\"Female\"\n",
    "print(\"The Dictionary after modifying:\",dict)"
   ]
  },
  {
   "cell_type": "code",
   "execution_count": 19,
   "id": "70c6d736-6633-4e39-b24e-9b82d2732a8b",
   "metadata": {},
   "outputs": [
    {
     "name": "stdout",
     "output_type": "stream",
     "text": [
      "{1, 2, 3}\n",
      "The set after adding: {1, 2, 3, 5, 7}\n",
      "The set after removing: {1, 5, 7}\n",
      "The set after modifying: {8, 1, 7}\n"
     ]
    }
   ],
   "source": [
    "#SET\n",
    "myset={1,1,2,2,3}\n",
    "print(myset)\n",
    "\n",
    "#Adding\n",
    "myset.add(5)\n",
    "myset.add(7)\n",
    "print(\"The set after adding:\",myset)\n",
    "\n",
    "#Removing\n",
    "myset.remove(2)\n",
    "qlist=list(myset)\n",
    "qlist.pop(1)\n",
    "myset=set(qlist)\n",
    "print(\"The set after removing:\",myset)\n",
    "\n",
    "#Modifying\n",
    "myset.remove(5)\n",
    "myset.add(8)\n",
    "print(\"The set after modifying:\",myset)\n",
    "\n"
   ]
  },
  {
   "cell_type": "code",
   "execution_count": null,
   "id": "1cf28155-7fd6-495b-96c8-f1838b6be02d",
   "metadata": {},
   "outputs": [],
   "source": []
  },
  {
   "cell_type": "code",
   "execution_count": null,
   "id": "28ef548e-d92e-4728-95f8-b27c93e7cdf2",
   "metadata": {},
   "outputs": [],
   "source": []
  }
 ],
 "metadata": {
  "kernelspec": {
   "display_name": "Python 3 (ipykernel)",
   "language": "python",
   "name": "python3"
  },
  "language_info": {
   "codemirror_mode": {
    "name": "ipython",
    "version": 3
   },
   "file_extension": ".py",
   "mimetype": "text/x-python",
   "name": "python",
   "nbconvert_exporter": "python",
   "pygments_lexer": "ipython3",
   "version": "3.12.4"
  }
 },
 "nbformat": 4,
 "nbformat_minor": 5
}
